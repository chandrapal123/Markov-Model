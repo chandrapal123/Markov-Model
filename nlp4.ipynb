{
 "cells": [
  {
   "cell_type": "code",
   "execution_count": 1,
   "metadata": {},
   "outputs": [
    {
     "name": "stderr",
     "output_type": "stream",
     "text": [
      "[nltk_data] Downloading package brown to\n",
      "[nltk_data]     C:\\Users\\user\\AppData\\Roaming\\nltk_data...\n",
      "[nltk_data]   Package brown is already up-to-date!\n"
     ]
    }
   ],
   "source": [
    "import nltk\n",
    "nltk.download('brown')\n",
    "from nltk.corpus import brown\n",
    "X=brown.sents()"
   ]
  },
  {
   "cell_type": "code",
   "execution_count": 2,
   "metadata": {},
   "outputs": [
    {
     "name": "stderr",
     "output_type": "stream",
     "text": [
      "[nltk_data] Downloading package averaged_perceptron_tagger to\n",
      "[nltk_data]     C:\\Users\\user\\AppData\\Roaming\\nltk_data...\n",
      "[nltk_data]   Package averaged_perceptron_tagger is already up-to-\n",
      "[nltk_data]       date!\n"
     ]
    },
    {
     "data": {
      "text/plain": [
       "True"
      ]
     },
     "execution_count": 2,
     "metadata": {},
     "output_type": "execute_result"
    }
   ],
   "source": [
    "nltk.download('averaged_perceptron_tagger')"
   ]
  },
  {
   "cell_type": "code",
   "execution_count": 3,
   "metadata": {},
   "outputs": [],
   "source": [
    "from string import punctuation\n",
    "li=[\"''\",\":\",\"$\",\"``\"]\n",
    "stoplist = set(list(punctuation)+li)\n",
    "X1=[]\n",
    "X2=[]\n",
    "for i in range(len(X)):\n",
    "  X1.append([token.lower() for token in X[i] if token not in stoplist])\n",
    "  X2.append(nltk.pos_tag(X1[i]))"
   ]
  },
  {
   "cell_type": "code",
   "execution_count": 7,
   "metadata": {},
   "outputs": [
    {
     "name": "stdout",
     "output_type": "stream",
     "text": [
      "['i', 'good', 'play', 'badly']\n",
      "[('i', 'RB'), ('good', 'JJ'), ('play', 'NN'), ('badly', 'RB')]\n"
     ]
    }
   ],
   "source": [
    "s=\"i good play badly\"\n",
    "x=s.split()\n",
    "print(x)\n",
    "s1=nltk.pos_tag(x)\n",
    "print(s1)"
   ]
  },
  {
   "cell_type": "code",
   "execution_count": 222,
   "metadata": {},
   "outputs": [
    {
     "name": "stdout",
     "output_type": "stream",
     "text": [
      "[('the', 'DT'), ('september-october', 'JJ'), ('term', 'NN'), ('jury', 'NN'), ('had', 'VBD'), ('been', 'VBN'), ('charged', 'VBN'), ('by', 'IN'), ('fulton', 'JJ'), ('superior', 'JJ'), ('court', 'NN'), ('judge', 'NN'), ('durwood', 'NN'), ('pye', 'NN'), ('to', 'TO'), ('investigate', 'VB'), ('reports', 'NNS'), ('of', 'IN'), ('possible', 'JJ'), ('irregularities', 'NNS'), ('in', 'IN'), ('the', 'DT'), ('hard-fought', 'JJ'), ('primary', 'NN'), ('which', 'WDT'), ('was', 'VBD'), ('won', 'VBN'), ('by', 'IN'), ('mayor-nominate', 'JJ'), ('ivan', 'NN'), ('allen', 'NN'), ('jr.', 'NN')]\n"
     ]
    }
   ],
   "source": [
    "print(X2[2])"
   ]
  },
  {
   "cell_type": "code",
   "execution_count": 12,
   "metadata": {},
   "outputs": [],
   "source": [
    "t2=['VBP', 'VBG','VBD','VB','VBZ','VBN']\n",
    "t1=['NNP','NNS','NN','NNPS']\n",
    "t3=['JJ', 'JJS','JJR']\n",
    "t4=['RBS','RBR', 'RB','RP']\n",
    "t5=['PRP$', 'PDT','PRP']\n",
    "t6=['DT']\n",
    "t7=['TO', 'CD','IN','UH', '$', 'MD', 'WP']\n",
    "t8=['POS', 'WDT', 'EX']"
   ]
  },
  {
   "cell_type": "code",
   "execution_count": 20,
   "metadata": {},
   "outputs": [],
   "source": [
    "for i in X2:\n",
    "    for j in range(len(i)):\n",
    "        if i[j][1] in t1:\n",
    "             i[j]=( i[j][0],'NN')\n",
    "        elif i[j][1] in t2:\n",
    "             i[j]=( i[j][0],'VB')\n",
    "        elif i[j][1] in t3:\n",
    "             i[j]=( i[j][0],'ADJ')\n",
    "        elif i[j][1] in t4:\n",
    "             i[j]=( i[j][0],'ADV')\n",
    "        elif i[j][1] in t5:\n",
    "            i[j]=( i[j][0],'PRO')\n",
    "        elif i[j][1] in t6:\n",
    "             i[j]=( i[j][0],'DT')\n",
    "        elif i[j][1] in t7:\n",
    "             i[j]=( i[j][0],'PRE')\n",
    "        elif i[j][1] in t8:\n",
    "             i[j]=( i[j][0],'ADP')\n",
    "        else:\n",
    "             i[j]=( i[j][0],'OTHER')"
   ]
  },
  {
   "cell_type": "code",
   "execution_count": 21,
   "metadata": {},
   "outputs": [
    {
     "name": "stdout",
     "output_type": "stream",
     "text": [
      "{'VB', 'PRO', 'NN', 'ADP', 'ADV', 'OTHER', 'DT', 'PRE', 'ADJ'}\n"
     ]
    }
   ],
   "source": [
    "tags=dict({})\n",
    "taglist1=[]\n",
    "pie=[]\n",
    "for i in range(len(X2)):\n",
    "    for j in range(len(X2[i])):\n",
    "        taglist1.append(X2[i][j][1])\n",
    "taglist=set(taglist1)\n",
    "print(taglist)\n",
    "j=0\n",
    "for i in taglist:\n",
    "    tags[i]=j\n",
    "    j+=1"
   ]
  },
  {
   "cell_type": "code",
   "execution_count": 23,
   "metadata": {},
   "outputs": [],
   "source": [
    "for i in taglist:\n",
    "    c=0\n",
    "    for j in range(len(X2)):\n",
    "        if(X2[j][0][1]==i):\n",
    "            c+=1\n",
    "    pie.append(c)"
   ]
  },
  {
   "cell_type": "code",
   "execution_count": 24,
   "metadata": {},
   "outputs": [
    {
     "name": "stdout",
     "output_type": "stream",
     "text": [
      "[0.04263247205360111, 0.16323495967671395, 0.19852002169235344, 0.015587005580532862, 0.08937599496177598, 0.07193464303832899, 0.20268355404719837, 0.16470444168430629, 0.05132690726518902]\n"
     ]
    }
   ],
   "source": [
    "piei=[]\n",
    "for i in pie:\n",
    "    piei.append(float(i/sum(pie)))\n",
    "print(piei)"
   ]
  },
  {
   "cell_type": "code",
   "execution_count": 25,
   "metadata": {},
   "outputs": [],
   "source": [
    "def sumation(A,n):\n",
    "    s=0\n",
    "    for i in range(n):\n",
    "        s=s+A[i]\n",
    "    return s"
   ]
  },
  {
   "cell_type": "code",
   "execution_count": 26,
   "metadata": {
    "scrolled": false
   },
   "outputs": [
    {
     "name": "stdout",
     "output_type": "stream",
     "text": [
      "[[1, 0, 0, 0, 0, 0, 0, 0, 0, 0], [0.014898546826187697, 0.1539068183624437, 0.08931180573811082, 0.08973974922511661, 0.002194738740501183, 0.12429312906164221, 0.027180524903254205, 0.1627102272379916, 0.25476698477132537, 0.08099747513342667], [0.1453245701470222, 0.3669791926239721, 0.0074134064291054074, 0.20154809369548965, 0.001354971343134812, 0.04186394218788936, 0.017505606777971593, 0.030074134064291054, 0.1177890605532021, 0.07014702217792175], [0.046106278465995194, 0.19457434576458496, 0.022943439768899794, 0.16935565785143442, 0.01702373165073316, 0.03587578770309637, 0.10957351286124643, 0.02357319595168348, 0.362061049783242, 0.018913000199084214], [0.10237849017580145, 0.5710674480064346, 0.06319659887395151, 0.05526829828794669, 0.0029874755831322533, 0.027691600597495116, 0.002872572676088705, 0.047110191887854765, 0.10835344134206595, 0.019073882569229], [0.09078147766445148, 0.24355876186076264, 0.036923842354028215, 0.03418742670315221, 0.003998009879526636, 0.09938164113863321, 0.03994456092967057, 0.07797007711716834, 0.2252745300117275, 0.14797967234087922], [0.08148705956957711, 0.16259759819269945, 0.0913558717450755, 0.20841425230866792, 0.008164559470492648, 0.0725298244223376, 0.019162934485355318, 0.1250644048987357, 0.11257976298997266, 0.11864373191708612], [0.0907766077472734, 0.026913313275667546, 0.0027422589946095024, 0.5646546320671931, 0.0006111320045129748, 0.016876645355396767, 0.002546383352137395, 0.0017472107308511972, 0.02703083866115081, 0.26610097781120723], [0.04676401927184225, 0.1771072368747827, 0.09575324094769781, 0.19904634182685144, 0.007639199324492128, 0.021353002533154523, 0.009869368698157254, 0.28979784433517114, 0.06631401182138777, 0.08635573436646302], [0.02980526011032213, 0.030871910523268216, 0.006948465547191662, 0.6723046759922389, 0.0009447475086093926, 0.01393756539582889, 0.04413900994524528, 0.009670963744044535, 0.10869675636688711, 0.08268064486636394]]\n"
     ]
    }
   ],
   "source": [
    "import numpy as np\n",
    "n=len(pie)\n",
    "A=[[0 for i in range(n+1)]for i in range(n+1)]\n",
    "A1=[[0 for i in range(n)]for i in range(n)]\n",
    "A[0][0]=1\n",
    "for i in range(1,n+1):\n",
    "    A[0][i]=0\n",
    "k=0\n",
    "for i in range(1,n+1):\n",
    "    A[i][0]=pie[k]\n",
    "    k+=1\n",
    "for i in range(len(X2)):\n",
    "    for j in range(len(X2[i])-1):\n",
    "        k=tags[X2[i][j][1]]\n",
    "        l=tags[X2[i][j+1][1]]\n",
    "        A1[k][l]=A1[k][l]+1\n",
    "for i in range(n):\n",
    "    for j in range(n):\n",
    "        A[i+1][j+1]=A1[i][j]\n",
    "for i in range(1,n+1):\n",
    "    z=sumation(A[i],n+1)\n",
    "    for j in range(n+1):\n",
    "        if(z!=0):\n",
    "          A[i][j]=A[i][j]/z\n",
    "print(A)"
   ]
  },
  {
   "cell_type": "code",
   "execution_count": 56,
   "metadata": {},
   "outputs": [],
   "source": [
    "s=\"i am sick\"\n",
    "s1=s.split()"
   ]
  },
  {
   "cell_type": "code",
   "execution_count": 57,
   "metadata": {},
   "outputs": [
    {
     "name": "stdout",
     "output_type": "stream",
     "text": [
      "[[   1    0    0]\n",
      " [ 658  237    2]\n",
      " [   0    0    0]\n",
      " [3567    0    5]\n",
      " [   1    0    0]\n",
      " [ 137    0    1]\n",
      " [   0    0    0]\n",
      " [   0    0    0]\n",
      " [   0    0    0]\n",
      " [ 801    0   43]]\n"
     ]
    }
   ],
   "source": [
    "taglist=list(taglist)\n",
    "B=[[0 for i in range(n+1)]for i in range(len(s1))]\n",
    "B1=[[0 for i in range(n)]for i in range(len(s1))]\n",
    "B[0][0]=1\n",
    "for i in range(1,len(s1)):\n",
    "    B[i][0]=0\n",
    "l1=[]\n",
    "for k in range(len(taglist)):\n",
    "  c=0\n",
    "  for l in range(len(s1)):\n",
    "   for i in range(len(X2)):\n",
    "    for j in range(len(X2[i])):\n",
    "        if(X2[i][j][1]==taglist[k] and X2[i][j][0]==s1[l]):\n",
    "                    B1[l][k]=B1[l][k]+1\n",
    "        if(X2[i][j][1]==taglist[k]):\n",
    "            c+=1\n",
    "  l1.append(c)\n",
    "for i in range(len(s1)):\n",
    "    for j in range(n):\n",
    "        B[i][j+1]=B1[i][j]\n",
    "B=np.array(B)\n",
    "B=B.transpose()\n",
    "print(B)"
   ]
  },
  {
   "cell_type": "code",
   "execution_count": 58,
   "metadata": {},
   "outputs": [],
   "source": [
    "B2=[[0 for i in range(len(s1))]for i in range(n+1)]\n",
    "B2[0]=B[0]\n",
    "for i in range(1,n+1):\n",
    "    z=sum(B[i])\n",
    "    for j in range(len(s1)):\n",
    "        if(sum(B[i])!=0):\n",
    "          B2[i][j]=B[i][j]/z"
   ]
  },
  {
   "cell_type": "code",
   "execution_count": 59,
   "metadata": {},
   "outputs": [
    {
     "name": "stdout",
     "output_type": "stream",
     "text": [
      "[array([1, 0, 0]), [0.7335562987736901, 0.26421404682274247, 0.002229654403567447], [0, 0, 0], [0.9986002239641657, 0.0, 0.0013997760358342665], [1.0, 0.0, 0.0], [0.9927536231884058, 0.0, 0.007246376811594203], [0, 0, 0], [0, 0, 0], [0, 0, 0], [0.9490521327014217, 0.0, 0.0509478672985782]]\n"
     ]
    }
   ],
   "source": [
    "print(B2)"
   ]
  },
  {
   "cell_type": "code",
   "execution_count": 60,
   "metadata": {},
   "outputs": [],
   "source": [
    "B3=[[0 for i in range(len(s1))]for i in range(n+1)]\n",
    "for i in range(n+1):\n",
    "    B3[i]=B2[i][::-1]"
   ]
  },
  {
   "cell_type": "code",
   "execution_count": 61,
   "metadata": {},
   "outputs": [
    {
     "name": "stdout",
     "output_type": "stream",
     "text": [
      "[[0, 0.04263247205360111, 0.16323495967671395, 0.19852002169235344, 0.015587005580532862, 0.08937599496177598, 0.07193464303832899, 0.20268355404719837, 0.16470444168430629, 0.05132690726518902], [0.0, 0.0002924212217610175, 0.0, 0.00018358191203781681, 0.0, 0.0009503689707233068, 0.0, 0.0, 0.0, 0.006681859564303439], [0.0, 0.00017248205567451825, 0.0, 0.0, 0.0, 0.0, 0.0, 0.0, 0.0, 0.0], [3.356058313900011e-05, 2.4618577152131633e-05, 0.0, 3.3513605838973514e-05, 3.356058313900011e-05, 3.331739050755808e-05, 0.0, 0.0, 0.0, 3.185074300277143e-05]]\n"
     ]
    }
   ],
   "source": [
    "M=[[0 for i in range(n+1)]for i in range(len(s1)+1)]\n",
    "M[0][0]=0\n",
    "for i in range(1,n+1):\n",
    "    M[0][i]=piei[i-1]\n",
    "for i in range(1,len(s1)+1):\n",
    "    for j in range(n+1):\n",
    "         z=0\n",
    "         for k in range(n+1):\n",
    "            z= z+M[i-1][k]*A[i][k]\n",
    "         M[i][j]=z*B3[j][i-1]\n",
    "print(M)"
   ]
  },
  {
   "cell_type": "code",
   "execution_count": 67,
   "metadata": {},
   "outputs": [
    {
     "name": "stdout",
     "output_type": "stream",
     "text": [
      "['VB', 'PRO', 'NN', 'ADP', 'ADV', 'OTHER', 'DT', 'PRE', 'ADJ']\n"
     ]
    }
   ],
   "source": [
    "print(taglist)"
   ]
  },
  {
   "cell_type": "code",
   "execution_count": 68,
   "metadata": {},
   "outputs": [
    {
     "name": "stdout",
     "output_type": "stream",
     "text": [
      "[7, 8, 1]\n",
      "tags for input sequence\n",
      "['PRE', 'ADJ', 'PRO']\n"
     ]
    }
   ],
   "source": [
    "tag=[]\n",
    "for i in range(len(s1)):\n",
    "    z=max(M[i])\n",
    "    for j in range(n):\n",
    "        if(M[i][j]==z):\n",
    "            break\n",
    "    tag.append(j)\n",
    "print(tag)\n",
    "final_tag=[]\n",
    "print(\"tags for input sequence\")\n",
    "for i in tag:\n",
    "    final_tag.append(taglist[i])\n",
    "print(final_tag)"
   ]
  },
  {
   "cell_type": "code",
   "execution_count": null,
   "metadata": {},
   "outputs": [],
   "source": []
  },
  {
   "cell_type": "code",
   "execution_count": null,
   "metadata": {},
   "outputs": [],
   "source": []
  }
 ],
 "metadata": {
  "kernelspec": {
   "display_name": "Python 3",
   "language": "python",
   "name": "python3"
  },
  "language_info": {
   "codemirror_mode": {
    "name": "ipython",
    "version": 3
   },
   "file_extension": ".py",
   "mimetype": "text/x-python",
   "name": "python",
   "nbconvert_exporter": "python",
   "pygments_lexer": "ipython3",
   "version": "3.7.4"
  }
 },
 "nbformat": 4,
 "nbformat_minor": 2
}
